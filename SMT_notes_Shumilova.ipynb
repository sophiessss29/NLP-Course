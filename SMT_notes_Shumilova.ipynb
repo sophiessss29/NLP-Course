{
  "nbformat": 4,
  "nbformat_minor": 0,
  "metadata": {
    "colab": {
      "provenance": [],
      "authorship_tag": "ABX9TyP8y8Gvym/grCieA7ybxl3Q",
      "include_colab_link": true
    },
    "kernelspec": {
      "name": "python3",
      "display_name": "Python 3"
    },
    "language_info": {
      "name": "python"
    }
  },
  "cells": [
    {
      "cell_type": "markdown",
      "metadata": {
        "id": "view-in-github",
        "colab_type": "text"
      },
      "source": [
        "<a href=\"https://colab.research.google.com/github/sophiessss29/NLP-Course/blob/main/SMT_notes_Shumilova.ipynb\" target=\"_parent\"><img src=\"https://colab.research.google.com/assets/colab-badge.svg\" alt=\"Open In Colab\"/></a>"
      ]
    },
    {
      "cell_type": "code",
      "execution_count": null,
      "metadata": {
        "id": "cmTgslpqGPlY"
      },
      "outputs": [],
      "source": []
    },
    {
      "cell_type": "markdown",
      "source": [
        "Statistical Machine Translation (SMT) — это метод автоматического перевода текста, который основывается на статистических моделях, извлекающих информацию из больших объемов двуязычных текстов.\n",
        "\n",
        "**Данные**:\n",
        "\n",
        "Большие объемы данных. Для SMT как правило используются параллельные корпуса. (+n-граммы)\n",
        "\n",
        "**Обучение моделей**:\n",
        "\n",
        "На основе собранных данных обучаются статистические модели, которые вычисляют вероятности различных переводов слов и фраз. Чем чаще встречается определенный вариант перевода в корпусе, тем выше его вероятность.\n",
        "\n",
        "**Генерация перевода**:\n",
        "\n",
        "При необходимости перевода нового текста система анализирует его и генерирует наиболее вероятные соответствия для каждого слова и фразы, основываясь на обученных моделях.\n",
        "\n",
        "Какие библиотеки используются?\n",
        "NLTK, Spacy (обработка текста)\n",
        "Scikit-learn (машинное обучение)\n",
        "\n",
        "**Ход работы**:\n",
        "Лучше см. гайд"
      ],
      "metadata": {
        "id": "-PGuExtFIqJl"
      }
    }
  ]
}